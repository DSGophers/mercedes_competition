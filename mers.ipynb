{
 "cells": [
  {
   "cell_type": "code",
   "execution_count": null,
   "metadata": {
    "collapsed": true
   },
   "outputs": [],
   "source": [
    "# загрузим библиотеки и установим опции\n",
    "\n",
    "from __future__ import division, print_function\n",
    "# отключим всякие предупреждения Anaconda\n",
    "import warnings\n",
    "warnings.filterwarnings('ignore')\n",
    "%matplotlib inline\n",
    "from matplotlib import pyplot as plt\n",
    "import seaborn as sns\n",
    "\n",
    "import pickle\n",
    "import numpy as np\n",
    "import pandas as pd\n",
    "from scipy.sparse import csr_matrix\n",
    "from scipy.sparse import hstack\n",
    "from sklearn.preprocessing import StandardScaler\n",
    "from sklearn.metrics import roc_auc_score, mean_squared_error\n",
    "from sklearn.linear_model import LogisticRegression\n",
    "from sklearn.svm import LinearSVR\n",
    "from sklearn.linear_model import Ridge\n",
    "import xgboost as xgb\n",
    "from xgboost.sklearn import XGBRegressor\n",
    "from sklearn.model_selection import RandomizedSearchCV\n",
    "import scipy.stats as st\n",
    "from sklearn.model_selection import GridSearchCV\n",
    "from sklearn.preprocessing import LabelEncoder"
   ]
  },
  {
   "cell_type": "code",
   "execution_count": null,
   "metadata": {},
   "outputs": [],
   "source": [
    "train_df = pd.read_csv('data/train.csv', index_col='ID')\n",
    "test_df = pd.read_csv('data/test.csv', index_col='ID')"
   ]
  },
  {
   "cell_type": "code",
   "execution_count": null,
   "metadata": {},
   "outputs": [],
   "source": [
    "def encode_categorial(x):\n",
    "    x = x.reset_index()\n",
    "    le = LabelEncoder()\n",
    "    col = x.columns.difference(['ID'])\n",
    "    print(pd.Series(le.fit_transform(x[col])))\n",
    "    x[col] = pd.Series(le.fit_transform(x[col])).astype('category', ordered=False)\n",
    "    x = x.set_index('ID')\n",
    "    return x\n",
    "\n",
    "train_idx = train_df.index.values\n",
    "test_idx = test_df.index.values\n",
    "\n",
    "y_train = train_df['y']\n",
    "full_df = pd.concat([train_df.drop('y', axis=1), test_df])\n",
    "\n",
    "categorial_fields = ['X0', 'X1', 'X2', 'X3', 'X4', 'X5', 'X6', 'X8']\n",
    "\n",
    "full_df_1 = full_df[full_df.columns.difference(categorial_fields)].apply(lambda x: x.astype('category', ordered=False), axis=0)\n",
    "#train_df_3 = train_df[categorial_fields].apply(lambda x: encode_categorial(x), axis=0)\n",
    "full_df_2 = pd.get_dummies(full_df[categorial_fields])\n",
    "full_df_2 = full_df_2.apply(lambda x: x.astype('category', ordered=False), axis=0)\n",
    "\n",
    "full_df = pd.concat([full_df_1, full_df_2], axis=1)\n",
    "\n",
    "X_train = full_df.loc[train_idx]\n",
    "X_test = full_df.loc[test_idx]"
   ]
  },
  {
   "cell_type": "code",
   "execution_count": null,
   "metadata": {},
   "outputs": [],
   "source": [
    "# функция для записи прогнозов в файл\n",
    "def write_to_submission_file(predicted, out_file, target='y', index=None, index_label=\"ID\"):\n",
    "    if index is None:\n",
    "        index = np.arange(1, predicted.shape[0] + 1)\n",
    "    predicted_df = pd.DataFrame(predicted,\n",
    "                                index = index,\n",
    "                                columns=[target])\n",
    "    predicted_df.to_csv(out_file, index_label=index_label)"
   ]
  },
  {
   "cell_type": "code",
   "execution_count": null,
   "metadata": {},
   "outputs": [],
   "source": [
    "full_df_xgb = full_df[full_df.columns].apply(lambda x: x.astype('bool'), axis=0)\n",
    "X_train_xgb = full_df_xgb.loc[train_idx]\n",
    "X_test_xgb = full_df_xgb.loc[test_idx]"
   ]
  },
  {
   "cell_type": "code",
   "execution_count": null,
   "metadata": {},
   "outputs": [],
   "source": [
    "params = {  \n",
    "    \"n_estimators\": [100],\n",
    "    \"max_depth\": [3,],\n",
    "    \"learning_rate\": [0.05],\n",
    "}\n",
    "\n",
    "xgbreg = XGBRegressor() \n",
    "grid = GridSearchCV(xgbreg, params, n_jobs=-1, cv=5, scoring='r2')\n",
    "grid.fit(X_train_xgb, y_train)\n",
    "grid.best_score_"
   ]
  },
  {
   "cell_type": "code",
   "execution_count": null,
   "metadata": {},
   "outputs": [],
   "source": [
    "y_test = grid.best_estimator_.predict(X_test_xgb)\n",
    "write_to_submission_file(y_test, 'submit_xbg_lr_005_md3_nest100_.csv', index=X_test.index.values)"
   ]
  }
 ],
 "metadata": {
  "kernelspec": {
   "display_name": "Python 2",
   "language": "python",
   "name": "python2"
  },
  "language_info": {
   "codemirror_mode": {
    "name": "ipython",
    "version": 2.0
   },
   "file_extension": ".py",
   "mimetype": "text/x-python",
   "name": "python",
   "nbconvert_exporter": "python",
   "pygments_lexer": "ipython2",
   "version": "2.7.6"
  }
 },
 "nbformat": 4,
 "nbformat_minor": 0
}